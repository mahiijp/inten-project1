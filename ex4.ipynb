{
  "nbformat": 4,
  "nbformat_minor": 0,
  "metadata": {
    "colab": {
      "provenance": [],
      "mount_file_id": "1bXkSiOrKB-iuaByTuIkl-UkGDZLWtoDq",
      "authorship_tag": "ABX9TyPhCH/sfKQ/Kc30ThYW9JCH",
      "include_colab_link": true
    },
    "kernelspec": {
      "name": "python3",
      "display_name": "Python 3"
    },
    "language_info": {
      "name": "python"
    }
  },
  "cells": [
    {
      "cell_type": "markdown",
      "metadata": {
        "id": "view-in-github",
        "colab_type": "text"
      },
      "source": [
        "<a href=\"https://colab.research.google.com/github/mahiijp/inten-project1/blob/master/ex4.ipynb\" target=\"_parent\"><img src=\"https://colab.research.google.com/assets/colab-badge.svg\" alt=\"Open In Colab\"/></a>"
      ]
    },
    {
      "cell_type": "code",
      "execution_count": null,
      "metadata": {
        "id": "SixfTJNggoRC"
      },
      "outputs": [],
      "source": [
        "import sys\n",
        "path_to_module = '/content/drive/MyDrive/Task_MLP_on_Mnist.ipynb'\n",
        "sys.path.append(path_to_module)"
      ]
    },
    {
      "cell_type": "code",
      "source": [
        "#Importing libraries\n",
        "from keras.datasets import mnist\n",
        "from keras.utils import np_utils\n",
        "from keras.models import Sequential\n",
        "from keras.layers import Dense, Activation\n",
        "from keras.optimizers import Adam\n",
        "\n",
        "import matplotlib.pyplot as plt\n",
        "%matplotlib inline\n",
        "import numpy as np\n",
        " #Load the MNIST dataset\n",
        "(X_train, y_train), (X_test, y_test) = mnist.load_data()\n",
        "\n",
        "# Reshape the input data\n",
        "X_train = X_train.reshape(X_train.shape[0], X_train.shape[1]*X_train.shape[2])\n",
        "X_test = X_test.reshape(X_test.shape[0], X_test.shape[1]*X_test.shape[2])\n",
        "\n",
        "# Normalize the input data\n",
        "X_train = X_train/255\n",
        "X_test = X_test/255\n",
        "\n",
        "# Convert class labels to one-hot encoded vectors\n",
        "Y_train = np_utils.to_categorical(y_train)\n",
        "Y_test = np_utils.to_categorical(y_test)\n",
        "\n",
        "# Define the model\n",
        "model = Sequential()\n",
        "model.add(Dense(64, input_shape=(784,), activation='sigmoid'))  # Hidden layer with 64 neurons and Sigmoid activation\n",
        "model.add(Dense(10, activation='softmax'))  # Output layer with 10 neurons for 0-9 digits and Softmax activation\n",
        "\n",
        "# Compile the model\n",
        "optimizer = Adam()  # ADAM optimizer\n",
        "model.compile(optimizer=optimizer, loss='categorical_crossentropy', metrics=['accuracy'])\n",
        "\n",
        "# Train the model\n",
        "history = model.fit(X_train, Y_train, batch_size=128, epochs=20, verbose=1, validation_data=(X_test, Y_test))\n",
        "\n",
        "# Evaluate the model\n",
        "score = model.evaluate(X_test, Y_test, verbose=0)\n",
        "print('Test score:', score[0])\n",
        "print('Test accuracy:', score[1])\n",
        "\n",
        "# Visualize a sample image and its prediction\n",
        "image_index = 120\n",
        "plt.imshow(X_test[image_index].reshape(28, 28), cmap='Greys')\n",
        "pred = model.predict(X_test)\n",
        "print(pred[image_index])\n",
        "print(np.argmax(pred[image_index]))\n"
      ],
      "metadata": {
        "colab": {
          "base_uri": "https://localhost:8080/",
          "height": 1000
        },
        "id": "4qgMqKsdkVyU",
        "outputId": "43b03686-1a4c-48eb-ec3b-34ce84ca1e4a"
      },
      "execution_count": null,
      "outputs": [
        {
          "output_type": "stream",
          "name": "stdout",
          "text": [
            "Downloading data from https://storage.googleapis.com/tensorflow/tf-keras-datasets/mnist.npz\n",
            "11490434/11490434 [==============================] - 0s 0us/step\n",
            "Epoch 1/20\n",
            "469/469 [==============================] - 4s 6ms/step - loss: 0.7160 - accuracy: 0.8429 - val_loss: 0.3517 - val_accuracy: 0.9081\n",
            "Epoch 2/20\n",
            "469/469 [==============================] - 2s 5ms/step - loss: 0.3088 - accuracy: 0.9169 - val_loss: 0.2630 - val_accuracy: 0.9271\n",
            "Epoch 3/20\n",
            "469/469 [==============================] - 1s 3ms/step - loss: 0.2441 - accuracy: 0.9319 - val_loss: 0.2211 - val_accuracy: 0.9375\n",
            "Epoch 4/20\n",
            "469/469 [==============================] - 1s 3ms/step - loss: 0.2072 - accuracy: 0.9421 - val_loss: 0.1953 - val_accuracy: 0.9442\n",
            "Epoch 5/20\n",
            "469/469 [==============================] - 1s 3ms/step - loss: 0.1814 - accuracy: 0.9494 - val_loss: 0.1753 - val_accuracy: 0.9503\n",
            "Epoch 6/20\n",
            "469/469 [==============================] - 1s 3ms/step - loss: 0.1615 - accuracy: 0.9546 - val_loss: 0.1596 - val_accuracy: 0.9537\n",
            "Epoch 7/20\n",
            "469/469 [==============================] - 1s 3ms/step - loss: 0.1456 - accuracy: 0.9593 - val_loss: 0.1472 - val_accuracy: 0.9573\n",
            "Epoch 8/20\n",
            "469/469 [==============================] - 1s 3ms/step - loss: 0.1325 - accuracy: 0.9625 - val_loss: 0.1375 - val_accuracy: 0.9581\n",
            "Epoch 9/20\n",
            "469/469 [==============================] - 3s 5ms/step - loss: 0.1212 - accuracy: 0.9664 - val_loss: 0.1297 - val_accuracy: 0.9610\n",
            "Epoch 10/20\n",
            "469/469 [==============================] - 2s 4ms/step - loss: 0.1117 - accuracy: 0.9690 - val_loss: 0.1240 - val_accuracy: 0.9634\n",
            "Epoch 11/20\n",
            "469/469 [==============================] - 1s 3ms/step - loss: 0.1031 - accuracy: 0.9713 - val_loss: 0.1178 - val_accuracy: 0.9656\n",
            "Epoch 12/20\n",
            "469/469 [==============================] - 1s 3ms/step - loss: 0.0958 - accuracy: 0.9738 - val_loss: 0.1141 - val_accuracy: 0.9664\n",
            "Epoch 13/20\n",
            "469/469 [==============================] - 1s 3ms/step - loss: 0.0890 - accuracy: 0.9754 - val_loss: 0.1084 - val_accuracy: 0.9668\n",
            "Epoch 14/20\n",
            "469/469 [==============================] - 1s 3ms/step - loss: 0.0831 - accuracy: 0.9773 - val_loss: 0.1052 - val_accuracy: 0.9684\n",
            "Epoch 15/20\n",
            "469/469 [==============================] - 1s 3ms/step - loss: 0.0774 - accuracy: 0.9786 - val_loss: 0.1034 - val_accuracy: 0.9699\n",
            "Epoch 16/20\n",
            "469/469 [==============================] - 1s 3ms/step - loss: 0.0726 - accuracy: 0.9805 - val_loss: 0.1002 - val_accuracy: 0.9695\n",
            "Epoch 17/20\n",
            "469/469 [==============================] - 2s 4ms/step - loss: 0.0683 - accuracy: 0.9816 - val_loss: 0.0978 - val_accuracy: 0.9710\n",
            "Epoch 18/20\n",
            "469/469 [==============================] - 2s 5ms/step - loss: 0.0640 - accuracy: 0.9829 - val_loss: 0.0951 - val_accuracy: 0.9726\n",
            "Epoch 19/20\n",
            "469/469 [==============================] - 2s 4ms/step - loss: 0.0605 - accuracy: 0.9835 - val_loss: 0.0938 - val_accuracy: 0.9723\n",
            "Epoch 20/20\n",
            "469/469 [==============================] - 1s 3ms/step - loss: 0.0568 - accuracy: 0.9851 - val_loss: 0.0929 - val_accuracy: 0.9728\n",
            "Test score: 0.0929030328989029\n",
            "Test accuracy: 0.9728000164031982\n",
            "313/313 [==============================] - 0s 1ms/step\n",
            "[8.5392986e-07 4.2116264e-07 1.4696503e-06 5.6565697e-03 3.5763028e-06\n",
            " 9.9309605e-01 1.5446947e-06 5.3948139e-07 4.2681844e-04 8.1214838e-04]\n",
            "5\n"
          ]
        },
        {
          "output_type": "display_data",
          "data": {
            "text/plain": [
              "<Figure size 640x480 with 1 Axes>"
            ],
            "image/png": "[encoded data removed]"
          },
          "metadata": {}
        }
      ]
    },
    {
      "cell_type": "code",
      "source": [
        "#Importing libraries\n",
        "from keras.datasets import mnist\n",
        "from keras.utils import np_utils\n",
        "from keras.models import Sequential\n",
        "from keras.layers import Dense, Activation\n",
        "from keras.optimizers import Adam\n",
        "\n",
        "import matplotlib.pyplot as plt\n",
        "%matplotlib inline\n",
        "import numpy as np\n",
        "\n",
        "# Load the MNIST dataset\n",
        "(X_train, y_train), (X_test, y_test) = mnist.load_data()\n",
        "\n",
        "# Reshape the input data\n",
        "X_train = X_train.reshape(X_train.shape[0], X_train.shape[1]*X_train.shape[2])\n",
        "X_test = X_test.reshape(X_test.shape[0], X_test.shape[1]*X_test.shape[2])\n",
        "\n",
        "# Normalize the input data\n",
        "X_train = X_train/255\n",
        "X_test = X_test/255\n",
        "\n",
        "# Convert class labels to one-h\n",
        "# Convert class labels to one-hot encoded vectors\n",
        "Y_train = np_utils.to_categorical(y_train)\n",
        "Y_test = np_utils.to_categorical(y_test)\n",
        "\n",
        "# Define the model\n",
        "model = Sequential()\n",
        "model.add(Dense(64, input_shape=(784,), activation='relu'))  # Hidden layer with 64 neurons and ReLU activation\n",
        "model.add(Dense(10, activation='softmax'))  # Output layer with 10 neurons for 0-9 digits and Softmax activation\n",
        "\n",
        "# Compile the model\n",
        "optimizer = Adam()  # ADAM optimizer\n",
        "model.compile(optimizer=optimizer, loss='categorical_crossentropy', metrics=['accuracy'])\n",
        "\n",
        "# Train the model\n",
        "history = model.fit(X_train, Y_train, batch_size=128, epochs=10, verbose=1, validation_data=(X_test, Y_test))\n",
        "\n",
        "# Evaluate the model\n",
        "score = model.evaluate(X_test, Y_test, verbose=0)\n",
        "print('Test score:', score[0])\n",
        "print('Test accuracy:', score[1])\n",
        "\n",
        "# Visualize a sample image and its prediction\n",
        "image_index = 120\n",
        "plt.imshow(X_test[image_index].reshape(28, 28), cmap='Greys')\n",
        "pred = model.predict(X_test)\n",
        "print(pred[image_index])\n",
        "print(np.argmax(pred[image_index]))"
      ],
      "metadata": {
        "colab": {
          "base_uri": "https://localhost:8080/",
          "height": 881
        },
        "id": "NvCL4I6_Ckzu",
        "outputId": "92c9d0a3-939b-4708-810c-b00d03142908"
      },
      "execution_count": null,
      "outputs": [
        {
          "output_type": "stream",
          "name": "stdout",
          "text": [
            "Epoch 1/10\n",
            "469/469 [==============================] - 3s 4ms/step - loss: 0.4191 - accuracy: 0.8879 - val_loss: 0.2240 - val_accuracy: 0.9358\n",
            "Epoch 2/10\n",
            "469/469 [==============================] - 1s 3ms/step - loss: 0.1990 - accuracy: 0.9443 - val_loss: 0.1650 - val_accuracy: 0.9512\n",
            "Epoch 3/10\n",
            "469/469 [==============================] - 1s 3ms/step - loss: 0.1488 - accuracy: 0.9574 - val_loss: 0.1473 - val_accuracy: 0.9571\n",
            "Epoch 4/10\n",
            "469/469 [==============================] - 1s 3ms/step - loss: 0.1210 - accuracy: 0.9652 - val_loss: 0.1198 - val_accuracy: 0.9645\n",
            "Epoch 5/10\n",
            "469/469 [==============================] - 1s 3ms/step - loss: 0.1020 - accuracy: 0.9712 - val_loss: 0.1121 - val_accuracy: 0.9665\n",
            "Epoch 6/10\n",
            "469/469 [==============================] - 2s 4ms/step - loss: 0.0883 - accuracy: 0.9748 - val_loss: 0.1017 - val_accuracy: 0.9694\n",
            "Epoch 7/10\n",
            "469/469 [==============================] - 2s 5ms/step - loss: 0.0768 - accuracy: 0.9780 - val_loss: 0.1003 - val_accuracy: 0.9681\n",
            "Epoch 8/10\n",
            "469/469 [==============================] - 3s 6ms/step - loss: 0.0681 - accuracy: 0.9807 - val_loss: 0.1002 - val_accuracy: 0.9684\n",
            "Epoch 9/10\n",
            "469/469 [==============================] - 2s 5ms/step - loss: 0.0615 - accuracy: 0.9818 - val_loss: 0.0909 - val_accuracy: 0.9706\n",
            "Epoch 10/10\n",
            "469/469 [==============================] - 1s 3ms/step - loss: 0.0552 - accuracy: 0.9838 - val_loss: 0.0904 - val_accuracy: 0.9738\n",
            "Test score: 0.09036515653133392\n",
            "Test accuracy: 0.973800003528595\n",
            "313/313 [==============================] - 0s 1ms/step\n",
            "[3.0699212e-14 4.0978505e-14 5.4049976e-10 1.3773069e-04 4.1008531e-14\n",
            " 9.9985576e-01 1.4850840e-13 1.1828300e-12 5.0017102e-06 1.5205364e-06]\n",
            "5\n"
          ]
        },
        {
          "output_type": "display_data",
          "data": {
            "text/plain": [
              "<Figure size 640x480 with 1 Axes>"
            ],
            "image/png": "[encoded data removed]"
          },
          "metadata": {}
        }
      ]
    },
    {
      "cell_type": "code",
      "source": [
        "#Importing libraries\n",
        "from keras.datasets import mnist\n",
        "from keras.utils import np_utils\n",
        "from keras.models import Sequential\n",
        "from keras.layers import Dense, Activation, BatchNormalization\n",
        "from keras.optimizers import Adam\n",
        "\n",
        "import matplotlib.pyplot as plt\n",
        "%matplotlib inline\n",
        "import numpy as np\n",
        "\n",
        "# Load the MNIST dataset\n",
        "(X_train, y_train), (X_test, y_test) = mnist.load_data()\n",
        "\n",
        "# Reshape the input data\n",
        "X_train = X_train.reshape(X_train.shape[0], X_train.shape[1]*X_train.shape[2])\n",
        "X_test = X_test.reshape(X_test.shape[0], X_test.shape[1]*X_test.shape[2])\n",
        "\n",
        "# Normalize the input data\n",
        "X_train = X_train/255\n",
        "X_test = X_test/255\n",
        "\n",
        "# Convert class labels to one-hot encoded vectors\n",
        "Y_train = np_utils.to_categorical(y_train)\n",
        "Y_test = np_utils.to_categorical(y_test)\n",
        "\n",
        "# Define the model\n",
        "model = Sequential()\n",
        "model.add(Dense(64, input_shape=(784,)))\n",
        "model.add(BatchNormalization())  # Batch normalization layer\n",
        "model.add(Activation('sigmoid'))  # Sigmoid activation\n",
        "model.add(Dense(10, activation='softmax'))  # Output layer with 10 neurons for 0-9 digits and Softmax activation\n",
        "\n",
        "# Compile the model\n",
        "optimizer = Adam()  # ADAM optimizer\n",
        "model.compile(optimizer=optimizer, loss='categorical_crossentropy', metrics=['accuracy'])\n",
        "# Train the model\n",
        "history = model.fit(X_train, Y_train, batch_size=128, epochs=10, verbose=1, validation_data=(X_test, Y_test))\n",
        "\n",
        "# Evaluate the model\n",
        "score = model.evaluate(X_test, Y_test, verbose=0)\n",
        "print('Test score:', score[0])\n",
        "print('Test accuracy:', score[1])\n",
        "\n",
        "# Visualize a sample image and its prediction\n",
        "image_index = 120\n",
        "plt.imshow(X_test[image_index].reshape(28, 28), cmap='Greys')\n",
        "pred = model.predict(X_test)\n",
        "print(pred[image_index])\n",
        "print(np.argmax(pred[image_index]))"
      ],
      "metadata": {
        "colab": {
          "base_uri": "https://localhost:8080/",
          "height": 881
        },
        "id": "qjH-E2mEDq0C",
        "outputId": "2e7e47bf-2871-4cf6-f1e0-bf41361be782"
      },
      "execution_count": null,
      "outputs": [
        {
          "output_type": "stream",
          "name": "stdout",
          "text": [
            "Epoch 1/10\n",
            "469/469 [==============================] - 3s 6ms/step - loss: 0.7310 - accuracy: 0.8602 - val_loss: 0.4048 - val_accuracy: 0.9065\n",
            "Epoch 2/10\n",
            "469/469 [==============================] - 2s 4ms/step - loss: 0.3614 - accuracy: 0.9103 - val_loss: 0.2972 - val_accuracy: 0.9208\n",
            "Epoch 3/10\n",
            "469/469 [==============================] - 2s 3ms/step - loss: 0.2916 - accuracy: 0.9226 - val_loss: 0.2640 - val_accuracy: 0.9257\n",
            "Epoch 4/10\n",
            "469/469 [==============================] - 2s 3ms/step - loss: 0.2535 - accuracy: 0.9314 - val_loss: 0.2337 - val_accuracy: 0.9325\n",
            "Epoch 5/10\n",
            "469/469 [==============================] - 2s 3ms/step - loss: 0.2256 - accuracy: 0.9367 - val_loss: 0.2158 - val_accuracy: 0.9391\n",
            "Epoch 6/10\n",
            "469/469 [==============================] - 2s 3ms/step - loss: 0.2021 - accuracy: 0.9443 - val_loss: 0.2082 - val_accuracy: 0.9414\n",
            "Epoch 7/10\n",
            "469/469 [==============================] - 2s 3ms/step - loss: 0.1827 - accuracy: 0.9493 - val_loss: 0.1970 - val_accuracy: 0.9430\n",
            "Epoch 8/10\n",
            "469/469 [==============================] - 2s 4ms/step - loss: 0.1655 - accuracy: 0.9540 - val_loss: 0.1711 - val_accuracy: 0.9509\n",
            "Epoch 9/10\n",
            "469/469 [==============================] - 3s 5ms/step - loss: 0.1494 - accuracy: 0.9586 - val_loss: 0.1647 - val_accuracy: 0.9524\n",
            "Epoch 10/10\n",
            "469/469 [==============================] - 2s 4ms/step - loss: 0.1362 - accuracy: 0.9631 - val_loss: 0.1550 - val_accuracy: 0.9550\n",
            "Test score: 0.1549561321735382\n",
            "Test accuracy: 0.9549999833106995\n",
            "313/313 [==============================] - 0s 1ms/step\n",
            "[1.0383020e-05 1.3997045e-07 8.3241312e-06 5.7142894e-03 2.6493393e-05\n",
            " 9.9185187e-01 2.0959080e-05 6.7348373e-07 2.3222719e-03 4.4655128e-05]\n",
            "5\n"
          ]
        },
        {
          "output_type": "display_data",
          "data": {
            "text/plain": [
              "<Figure size 640x480 with 1 Axes>"
            ],
            "image/png": "[encoded data removed]"
          },
          "metadata": {}
        }
      ]
    }
  ]
}